# Importing necessary libraries

# For working with JSON data
import json

# For generating random numbers
import random

# For plotting graphs
import matplotlib.pyplot as plt

# For creating nice-looking plots
import seaborn as sns

# For handling data in tables
import pandas as pd

# For creating interactive widgets in Jupyter Notebooks
import ipywidgets as widgets

# For displaying widgets and other elements in Jupyter Notebooks
from IPython.display import display
from datetime import datetime


# Function to define high temperatures 
def high_season_temp(date):

    """
    Description:
    The high_season_temp function generates a random high temperature for a given date based on the month.

    Parameters:
    date (datetime): A datetime object representing the date for which the high temperature is to be generated.

    Returns:
    float: The high temperature value rounded to one decimal place.
    """
    # Extract the month from the date
    month = date.month
    if month == 1:  # January
        return round(random.uniform(18, 22), 1)
    elif month == 2:  # February
        return round(random.uniform(20, 24), 1)
    elif month == 3:  # March
        return round(random.uniform(25, 30), 1)
    elif month == 4:  # April
        return round(random.uniform(30, 35), 1)
    elif month == 5:  # May
        return round(random.uniform(34, 38), 1)
    elif month == 6:  # June
        return round(random.uniform(36, 40), 1)
    elif month == 7:  # July
        return round(random.uniform(35, 39), 1)
    elif month == 8:  # August
        return round(random.uniform(34, 38), 1)
    elif month == 9:  # September
        return round(random.uniform(32, 36), 1)
    elif month == 10:  # October
        return round(random.uniform(30, 34), 1)
    elif month == 11:  # November
        return round(random.uniform(25, 29), 1)
    else:  # December
        return round(random.uniform(20, 24), 1)

# Function to define low temperatures
def low_season_temp(date):
    
    """
    Description:
    The low_season_temp function generates a random low temperature for a given date based on the month.
    Parameters:
    date (datetime): A datetime object representing the date for which the low temperature is to be generated.

    Returns:
    float: The low temperature value rounded to one decimal place.
    """
    # Extract the month from the date
    month = date.month
    if month == 1:  # January
        return round(random.uniform(12, 16), 1)
    elif month == 2:  # February
        return round(random.uniform(14, 18), 1)
    elif month == 3:  # March
        return round(random.uniform(18, 22), 1)
    elif month == 4:  # April
        return round(random.uniform(22, 26), 1)
    elif month == 5:  # May
        return round(random.uniform(26, 30), 1)
    elif month == 6:  # June
        return round(random.uniform(28, 32), 1)
    elif month == 7:  # July
        return round(random.uniform(27, 31), 1)
    elif month == 8:  # August
        return round(random.uniform(26, 30), 1)
    elif month == 9:  # September
        return round(random.uniform(24, 28), 1)
    elif month == 10:  # October
        return round(random.uniform(22, 26), 1)
    elif month == 11:  # November
        return round(random.uniform(18, 22), 1)
    else:  # December
        return round(random.uniform(14, 18), 1)


# Generate example outputs for specific dates
dates = [
    datetime(2023, 1, 15),
    datetime(2023, 4, 10),
]

for date in dates:
    print(f"High season temp for {date.strftime('%B %d, %Y')}: {high_season_temp(date)}°C")
    print(f"Low season temp for {date.strftime('%B %d, %Y')}: {low_season_temp(date)}°C\n")

# Function to generate weather data
def generate_weather_data(start_date, end_date):
    """
    Description:
    Generates weather data for a given date range.

    Parameters:
    start_date (str): The start date in 'YYYY-MM-DD' format.
    end_date (str): The end date in 'YYYY-MM-DD' format.

    Returns:
    list: A list of dictionaries with weather info for each date.
    Each dictionary contains:
        - 'date': The date in 'YYYY-MM-DD' format.
        - 'high_temp': The high temperature for the date.
        - 'low_temp': The low temperature for the date.
    """

    # Convert start_date and end_date to pd.Timestamp
    
    date_range = pd.date_range(start_date, end_date)
    # List to store weather data
    weather_data = []

    # Go through each date in the range
    for date in date_range:
        # Create a dictionary with weather info for the current date
        weather_info = {
            'date': date.strftime('%Y-%m-%d'),  # Format the date as 'YYYY-MM-DD'
            'high_temp': high_season_temp(date),  # Get the high temperature for the date
            'low_temp': low_season_temp(date),    # Get the low temperature for the date
        }
        # Add the weather info to the list
        weather_data.append(weather_info)

    # Return the list of weather data
    return weather_data

# Example usage
start_date = '2023-10-01'
end_date = '2023-10-08'
weather_data = generate_weather_data(start_date, end_date)

# Print the output
for data in weather_data:
    print(data)
# Function to save weather data to a JSON file
def save_weather_data(data, filename):
    # Open the file in write mode and save the data as JSON
    with open(filename, 'w') as file:
        json.dump(data, file)

# Function to load weather data from a JSON file
def load_weather_data(filename):
    # Open the file in read mode and load the data from JSON
    with open(filename, 'r') as file:
        data = json.load(file)
    return data



def clean_data(data):
    """
    Description:
    Clean the input weather data.

    Parameters:
    data (list): A list of dictionaries with weather data.
        - A DataFrame is like a table with rows and columns.
        - Each column can have different types of data (e.g., numbers, text).

    Returns:
    pd.DataFrame: A cleaned DataFrame with datetime index and numeric temperature values.
    """
    # Convert the input data into a pandas DataFrame (like a table)
    df = pd.DataFrame(data)

    # Convert the 'date' column to datetime objects (so pandas knows it's dates)
    df['date'] = pd.to_datetime(df['date'])

    # Set the 'date' column as the index (row labels) of the DataFrame
    df.set_index('date', inplace=True)

    # Convert 'high_temp' and 'low_temp' columns to numeric values (numbers)
    df['high_temp'] = pd.to_numeric(df['high_temp'])
    df['low_temp'] = pd.to_numeric(df['low_temp'])

    # Return the cleaned DataFrame
    return df

# Example usage
cleaned_df = clean_data(weather_data)
print(cleaned_df)

def average_data(df, freq):
    """
    Description:
    Calculate the average high and low temperatures over a specified frequency.

    Parameters:
    df (pd.DataFrame): DataFrame with temperature data and a datetime index.
    freq (str): How often to average the data - 'W' for weekly, 'ME' for monthly.

    Returns:
    pd.DataFrame: DataFrame with averaged high and low temperatures.
    """
    
    # Get only the 'high_temp' and 'low_temp' columns
    num_df = df[['high_temp', 'low_temp']]

    # Check if the frequency is weekly
    if freq == 'W':
        # Group the data weekly and calculate the average for each week
        num_df = num_df.resample('W').mean()
    # Otherwise, assume the frequency is monthly
    else:
        # Resample the data monthly and calculate the average for each month
        num_df = num_df.resample('ME').mean()
   
    # Return the averaged data
    return num_df

weekly_avg = average_data(cleaned_df, 'W')
print("Weekly Average:")
print(round(weekly_avg))

# Example output for monthly average
monthly_avg = average_data(cleaned_df, 'ME')
print("\nMonthly Average:")
print(round(monthly_avg))
# Function to find the hottest day
def hottest_day(data):
    # Start with the first day as the hottest
    hottest = data[0]
    # Go through each day in the data
    for day in data:
        # If the current day is hotter, update the hottest day
        if day['high_temp'] > hottest['high_temp']:
            hottest = day
    return hottest

# Function to find the coldest day
def coldest_day(data):
    # Start with the first day as the coldest
    coldest = data[0]
    # Go through each day in the data
    for day in data:
        # If the current day is colder, update the coldest day
        if day['low_temp'] < coldest['low_temp']:
            coldest = day
    return coldest

# Function to calculate average temperature
def avg_temp(data, temp_type):
    # Start with a total temperature of 0
    total_temp = 0
    # Add up all the temperatures
    for entry in data:
        total_temp += entry[temp_type]
    # Divide by the number of entries to get the average
    return total_temp / len(data)


# Example usage
hottest = hottest_day(weather_data)
coldest = coldest_day(weather_data)
average_high = avg_temp(weather_data, 'high_temp')
average_low = avg_temp(weather_data, 'low_temp')

# Print the results
print("Hottest day:", hottest)
print("Coldest day:", coldest)
print("Average high temperature:", round(average_high,1))
print("Average low temperature:", round(average_low,1))
def plotting(average_data, title, theme='Light'):

    """ 
    Description:
    The plotting function generates a line plot of high and low temperatures over time, with customizable themes for light and dark backgrounds.

    Parameters:
    average_data (DataFrame): A pandas DataFrame containing the temperature data. It should have at least two columns: high_temp and low_temp, and an index representing dates.
    title (str): The title of the plot.
    theme (str, optional): The theme for the plot. It can be either 'Light' or 'Dark'. Default is 'Light'.
    
    Returns:
    None: The function does not return any value. It displays the plot using plt.show().
    """
     # Set the plot style based on the selected theme
    if theme == 'Dark':
        plt.style.use('dark_background')  # Dark theme
        background_color = '#2E2E2E'      # Dark grey background
        text_color = 'white'              # White text for contrast
        grid_color = '#4F4F4F'            # Light grey grid lines
    else:
        plt.style.use('default')          # Light theme
        background_color = 'white'        # White background
        text_color = 'black'              # Black text for contrast
        grid_color = '#CCCCCC'            # Light grey grid lines

    # Create a figure and axis object with specific size
    fig, ax = plt.subplots(figsize=(12, 6))

    # Set the background colors
    ax.set_facecolor(background_color)
    ax.figure.set_facecolor(background_color)

    ax.xaxis.label.set_color(text_color)     # Color of x-axis label
    ax.yaxis.label.set_color(text_color)     # Color of y-axis label
    ax.title.set_color(text_color)           # Color of the plot title
    ax.tick_params(axis='x', colors=text_color)  # Color of x-axis tick labels
    ax.tick_params(axis='y', colors=text_color)  # Color of y-axis tick labels

    # Configure grid lines
    ax.grid(True, color=grid_color)           

    # Plot high temperatures
    sns.lineplot(x=average_data.index, y='high_temp', data=average_data.reset_index(),
                 marker='o', color='red', ax=ax, label='High Temp')

    # Plot low temperatures
    sns.lineplot(x=average_data.index, y='low_temp', data=average_data.reset_index(),
                 marker='o', color='blue', ax=ax, label='Low Temp')

    # Set axis labels and title
    ax.set_xlabel('Date')                     
    ax.set_ylabel('Temperature (°C)')         
    ax.set_title(title)                     

    # Rotate x-axis labels for better readability
    ax.tick_params(axis='x', rotation=45)    

    # Add a legend to differentiate between high and low temperatures
    ax.legend()                               

    # Adjust layout to fit everything nicely
    fig.tight_layout()                      

    # Display the plot
    plt.show()                               


# Example output
plotting(cleaned_df, 'Average Weekly Temperatures', theme='Dark')


# Define an area to display output
output = widgets.Output()

# Show the output area
display(output)

def update_plot(start_date, end_date, plot_type, theme, filename):

    """
    Description:
    Generates and plots weather data for a specified date range.

    Parameters:
    start_date (str): The start date for the weather data generation in 'YYYY-MM-DD' format.
    end_date (str): The end date for the weather data generation in 'YYYY-MM-DD' format.
    plot_type (str): The type of plot to generate ('Weekly' or 'Monthly').
    theme (str): The theme to use for the plot.
    filename (str): The name of the file to save the generated weather data.

    Returns:
    None
    """
# Convert start_date and end_date to pd.Timestamp
    start_date = pd.Timestamp(start_date)
    end_date = pd.Timestamp(end_date)

    # Check if the ending date is earlier than the starting date
    with output:
        if end_date < start_date:
            output.clear_output()
            print("Error: The ending date cannot be earlier than the starting date.")

            return
        # Clear any previous output in the output widget
        output.clear_output()

        # Generate weather data for the specified date range
        weather_data = generate_weather_data(start_date, end_date)

        # Save the generated weather data to a file
        save_weather_data(weather_data, filename)

        # Load the weather data from the file
        weather_data = load_weather_data(filename)

        # Clean the loaded weather data
        df = clean_data(weather_data)

        # Compute various statistics from the weather data
        hottest = hottest_day(weather_data)  
        coldest = coldest_day(weather_data)  
        avg_high = avg_temp(weather_data, 'high_temp') 
        avg_low = avg_temp(weather_data, 'low_temp')   
        avg_temps = (avg_high + avg_low) / 2.0  

        # Print the computed statistics
        print(f"Hottest Day: {hottest['date']} ({hottest['high_temp']}°C)")
        print(f"Coldest Day: {coldest['date']} ({coldest['low_temp']}°C)")
        print(f"Average High Temp: {avg_high:.1f}°C")
        print(f"Average Low Temp: {avg_low:.1f}°C")
        print(f"Average Temp: {avg_temps:.1f}°C")

        # Decide how to group the data based on the plot type (Weekly or Monthly)
        freq = 'W' if plot_type == 'Weekly' else 'ME'
    

        # Calculate the average data for the chosen frequency
        avg_data = average_data(df, freq)

        # Plot the average data with the specified theme
        plotting(avg_data, f'{plot_type} Average Temperature', theme)


# Example call to the update_plot function
start_date = '2023-01-01'
end_date = '2023-03-01'
plot_type = 'Weekly' 
theme = 'Dark'  
filename = 'weather_data.json'


# Call the function to generate and display the plot
update_plot(start_date, end_date, plot_type, theme, filename)


# DatePicker widget for selecting the start date
start_date_widget = widgets.DatePicker(
    description='Start Date',              # Label
    value=pd.to_datetime('2023-01-01'),    # Default start date
    style={'description_width': 'initial'}  # Adjust label width
)

# DatePicker widget for selecting the end date
end_date_widget = widgets.DatePicker(
    description='End Date',                # Label
    value=pd.to_datetime('2023-12-31'),    # Default end date
    style={'description_width': 'initial'}  # Adjust label width
)

# Dropdown widget for selecting the type of plot (Weekly or Monthly)
plot_type_widget = widgets.Dropdown(
    options=['Weekly', 'Monthly'],         # Options
    value='Weekly',                        # Default option
    description='Plot Type:',              # Label
    style={'description_width': 'initial'}  # Adjust label width
)

# Dropdown widget for selecting the theme (Light or Dark)
theme_widget = widgets.Dropdown(
    options=['Light', 'Dark'],             # Options
    value='Dark',                         # Default option
    description='Theme:',                  # Label
    style={'description_width': 'initial'}  # Adjust label width
)

# Text widget for inputting the filename
filename_widget = widgets.Text(
    value='weather_data.json',             # Default filename
    description='Filename:',               # Label
    style={'description_width': 'initial'}  # Adjust label width
)

# Output widget to display outputs or messages
output = widgets.Output()

# Link widgets to the update_plot function for interactive updates
widgets.interactive(
    update_plot,                         # Function to call
    start_date=start_date_widget,        # Start date widget
    end_date=end_date_widget,            # End date widget
    plot_type=plot_type_widget,          # Plot type widget
    theme=theme_widget,                  # Theme widget
    filename=filename_widget             # Filename widget
)

# Display the widgets
display(start_date_widget, end_date_widget, plot_type_widget, theme_widget, filename_widget, output)
