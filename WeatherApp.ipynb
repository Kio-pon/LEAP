{
  "cells": [
    {
      "cell_type": "code",
      "execution_count": 1,
      "id": "tGA4gm4FfOmk",
      "metadata": {
        "id": "tGA4gm4FfOmk"
      },
      "outputs": [],
      "source": [
        "import json\n",
        "import random\n",
        "import seaborn as sns\n",
        "import matplotlib.pyplot as plt\n",
        "import pandas as pd\n",
        "import ipywidgets as widgets\n",
        "from IPython.display import display\n"
      ]
    },
    {
      "cell_type": "code",
      "execution_count": 2,
      "id": "fypWpb34fSqM",
      "metadata": {
        "id": "fypWpb34fSqM"
      },
      "outputs": [],
      "source": [
        "# Function to generate weather data\n",
        "def generate_weather_data(start_date, end_date):\n",
        "    date_range = pd.date_range(start_date, end_date)\n",
        "    weather_data = []\n",
        "    for date in date_range:\n",
        "        weather_info = {\n",
        "            'date': date.strftime('%Y-%m-%d'),\n",
        "            'high_temp': high_season_temp(date),\n",
        "            'low_temp': low_season_temp(date),\n",
        "        }\n",
        "        weather_data.append(weather_info)\n",
        "    return weather_data\n"
      ]
    },
    {
      "cell_type": "code",
      "execution_count": 3,
      "id": "9541fY0PfXSD",
      "metadata": {
        "id": "9541fY0PfXSD"
      },
      "outputs": [],
      "source": [
        "# Function to save weather data to a JSON file\n",
        "def save_weather_data(data, filename):\n",
        "    with open(filename, 'w') as file:\n",
        "        json.dump(data, file)\n",
        "\n",
        "# Function to load weather data from a JSON file\n",
        "def load_weather_data(filename):\n",
        "    with open(filename, 'r') as file:\n",
        "        data = json.load(file)\n",
        "    return data\n"
      ]
    },
    {
      "cell_type": "code",
      "execution_count": 4,
      "id": "VytlTgyMfaRw",
      "metadata": {
        "id": "VytlTgyMfaRw"
      },
      "outputs": [],
      "source": [
        "# Function to find the hottest day\n",
        "def hottest_day(data):\n",
        "    return max(data, key=lambda x: x['high_temp'])\n",
        "\n",
        "# Function to find the coldest day\n",
        "def coldest_day(data):\n",
        "    return min(data, key=lambda x: x['low_temp'])\n",
        "\n",
        "# Function to calculate average temperature\n",
        "def avg_temp(data, temp_type):\n",
        "    total_temp = sum(entry[temp_type] for entry in data)\n",
        "    return total_temp / len(data)\n"
      ]
    },
    {
      "cell_type": "code",
      "execution_count": 5,
      "id": "_R4zSuUeffej",
      "metadata": {
        "id": "_R4zSuUeffej"
      },
      "outputs": [],
      "source": [
        "\n",
        "def average_data(df, freq):\n",
        "    num_df = df[['high_temp', 'low_temp']]\n",
        "    if freq == 'W':\n",
        "        num_df = num_df.resample('W').mean()\n",
        "    elif freq == 'M':\n",
        "        num_df = num_df.resample('M').mean()\n",
        "    else:\n",
        "        raise ValueError('freq must be W or M')\n",
        "    return num_df"
      ]
    },
    {
      "cell_type": "code",
      "execution_count": 6,
      "id": "f9jQIs-ef1xC",
      "metadata": {
        "id": "f9jQIs-ef1xC"
      },
      "outputs": [],
      "source": [
        "\n",
        "# Function to define high season temperatures\n",
        "def high_season_temp(date):\n",
        "    month = date.month\n",
        "    if month == 1:  # January\n",
        "        return round(random.uniform(18, 22), 1)\n",
        "    elif month == 2:  # February\n",
        "        return round(random.uniform(20, 24), 1)\n",
        "    elif month == 3:  # March\n",
        "        return round(random.uniform(25, 30), 1)\n",
        "    elif month == 4:  # April\n",
        "        return round(random.uniform(30, 35), 1)\n",
        "    elif month == 5:  # May\n",
        "        return round(random.uniform(34, 38), 1)\n",
        "    elif month == 6:  # June\n",
        "        return round(random.uniform(36, 40), 1)\n",
        "    elif month == 7:  # July\n",
        "        return round(random.uniform(35, 39), 1)\n",
        "    elif month == 8:  # August\n",
        "        return round(random.uniform(34, 38), 1)\n",
        "    elif month == 9:  # September\n",
        "        return round(random.uniform(32, 36), 1)\n",
        "    elif month == 10:  # October\n",
        "        return round(random.uniform(30, 34), 1)\n",
        "    elif month == 11:  # November\n",
        "        return round(random.uniform(25, 29), 1)\n",
        "    else:  # December\n",
        "        return round(random.uniform(20, 24), 1)\n",
        "\n",
        "# Function to define low season temperatures\n",
        "def low_season_temp(date):\n",
        "    month = date.month\n",
        "    if month == 1:  # January\n",
        "        return round(random.uniform(12, 16), 1)\n",
        "    elif month == 2:  # February\n",
        "        return round(random.uniform(14, 18), 1)\n",
        "    elif month == 3:  # March\n",
        "        return round(random.uniform(18, 22), 1)\n",
        "    elif month == 4:  # April\n",
        "        return round(random.uniform(22, 26), 1)\n",
        "    elif month == 5:  # May\n",
        "        return round(random.uniform(26, 30), 1)\n",
        "    elif month == 6:  # June\n",
        "        return round(random.uniform(28, 32), 1)\n",
        "    elif month == 7:  # July\n",
        "        return round(random.uniform(27, 31), 1)\n",
        "    elif month == 8:  # August\n",
        "        return round(random.uniform(26, 30), 1)\n",
        "    elif month == 9:  # September\n",
        "        return round(random.uniform(24, 28), 1)\n",
        "    elif month == 10:  # October\n",
        "        return round(random.uniform(22, 26), 1)\n",
        "    elif month == 11:  # November\n",
        "        return round(random.uniform(18, 22), 1)\n",
        "    else:  # December\n",
        "        return round(random.uniform(14, 18), 1)"
      ]
    },
    {
      "cell_type": "code",
      "execution_count": 7,
      "id": "TysajXySf_QK",
      "metadata": {
        "id": "TysajXySf_QK"
      },
      "outputs": [],
      "source": [
        "# Function to clean data\n",
        "def clean_data(data):\n",
        "    df = pd.DataFrame(data)\n",
        "    df['date'] = pd.to_datetime(df['date'])\n",
        "    df.set_index('date', inplace=True)\n",
        "    df['high_temp'] = pd.to_numeric(df['high_temp'])\n",
        "    df['low_temp'] = pd.to_numeric(df['low_temp'])\n",
        "    return df"
      ]
    },
    {
      "cell_type": "code",
      "execution_count": 8,
      "id": "epq-HO_-hURr",
      "metadata": {
        "id": "epq-HO_-hURr"
      },
      "outputs": [],
      "source": [
        "def plotting(average_data, title, theme='Light'):\n",
        "    if theme == 'Dark':\n",
        "        plt.style.use('dark_background')\n",
        "        background_color = '#2E2E2E'\n",
        "        text_color = 'white'\n",
        "        grid_color = '#4F4F4F'\n",
        "    else:\n",
        "        plt.style.use('default')\n",
        "        background_color = 'white'\n",
        "        text_color = 'black'\n",
        "        grid_color = '#CCCCCC'\n",
        "\n",
        "    fig, ax = plt.subplots(figsize=(12, 6))\n",
        "\n",
        "    ax.set_facecolor(background_color)\n",
        "    ax.figure.set_facecolor(background_color)\n",
        "    ax.xaxis.label.set_color(text_color)\n",
        "    ax.yaxis.label.set_color(text_color)\n",
        "    ax.title.set_color(text_color)\n",
        "    ax.tick_params(axis='x', colors=text_color)\n",
        "    ax.tick_params(axis='y', colors=text_color)\n",
        "    ax.grid(True, color=grid_color)\n",
        "\n",
        "    sns.lineplot(x=average_data.index, y='high_temp', data=average_data.reset_index(), marker='o', color='red', ax=ax,\n",
        "                 label='High Temp')\n",
        "    sns.lineplot(x=average_data.index, y='low_temp', data=average_data.reset_index(), marker='o', color='blue', ax=ax,\n",
        "                 label='Low Temp')\n",
        "    ax.set_xlabel('Date')\n",
        "    ax.set_ylabel('Temperature (°C)')\n",
        "    ax.set_title(title)\n",
        "    ax.tick_params(axis='x', rotation=45)\n",
        "    ax.legend()\n",
        "    fig.tight_layout()\n",
        "    plt.show()\n"
      ]
    },
    {
      "cell_type": "code",
      "execution_count": 9,
      "id": "NPuyoGKfgMH6",
      "metadata": {
        "id": "NPuyoGKfgMH6"
      },
      "outputs": [],
      "source": [
        "# Create widgets for user input\n",
        "start_date_widget = widgets.DatePicker(\n",
        "    description='Start Date',\n",
        "    value=pd.to_datetime('2023-01-01'),\n",
        "    style={'description_width': 'initial'}\n",
        ")\n",
        "\n",
        "end_date_widget = widgets.DatePicker(\n",
        "    description='End Date',\n",
        "    value=pd.to_datetime('2023-12-31'),\n",
        "    style={'description_width': 'initial'}\n",
        ")\n",
        "\n",
        "plot_type_widget = widgets.Dropdown(\n",
        "    options=['Weekly', 'Monthly'],\n",
        "    value='Weekly',\n",
        "    description='Plot Type:',\n",
        "    style={'description_width': 'initial'}\n",
        ")\n",
        "\n",
        "theme_widget = widgets.Dropdown(\n",
        "    options=['Light', 'Dark'],\n",
        "    value='Light',\n",
        "    description='Theme:',\n",
        "    style={'description_width': 'initial'}\n",
        ")\n",
        "\n",
        "filename_widget = widgets.Text(\n",
        "    value='weather_data.json',\n",
        "    description='Filename:',\n",
        "    style={'description_width': 'initial'}\n",
        ")\n",
        "\n",
        "output = widgets.Output()"
      ]
    },
    {
      "cell_type": "code",
      "execution_count": 10,
      "id": "eZuszrKDgNjs",
      "metadata": {
        "id": "eZuszrKDgNjs"
      },
      "outputs": [],
      "source": [
        "def update_plot(start_date, end_date, plot_type, theme, filename):\n",
        "    with output:\n",
        "        output.clear_output()\n",
        "        weather_data = generate_weather_data(start_date, end_date)\n",
        "        save_weather_data(weather_data, filename)\n",
        "        weather_data = load_weather_data(filename)\n",
        "        df = clean_data(weather_data)\n",
        "\n",
        "        hottest = hottest_day(weather_data)\n",
        "        coldest = coldest_day(weather_data)\n",
        "        avg_high = avg_temp(weather_data, 'high_temp')\n",
        "        avg_low = avg_temp(weather_data, 'low_temp')\n",
        "        avg_temps = (avg_high + avg_low) / 2.0\n",
        "\n",
        "        print(f\"Hottest Day: {hottest['date']} ({hottest['high_temp']}°C)\")\n",
        "        print(f\"Coldest Day: {coldest['date']} ({coldest['low_temp']}°C)\")\n",
        "        print(f\"Average High Temp: {avg_high:.1f}°C\")\n",
        "        print(f\"Average Low Temp: {avg_low:.1f}°C\")\n",
        "        print(f\"Average Temp: {avg_temps:.1f}°C\")\n",
        "\n",
        "        freq = 'W' if plot_type == 'Weekly' else 'M'\n",
        "        avg_data = average_data(df, freq)\n",
        "        plotting(avg_data, f'{plot_type} Average Temperature', theme)"
      ]
    },
    {
      "cell_type": "code",
      "execution_count": 11,
      "id": "pvat26W4gQwl",
      "metadata": {
        "colab": {
          "base_uri": "https://localhost:8080/",
          "height": 177,
          "referenced_widgets": [
            "f80d213c1bd44bdd869ed68a01dc6167",
            "cfdd1c068cf64114bdad7b089f8cd65b",
            "7264ee1d81ca4a87890649b4e7c6ae66",
            "4d85f944ed844504a8eb105d1b9758f5",
            "8bdb3df597f84ea19910100fa20bf389",
            "7168a9a056ad4d0c87f0f2bf4a7ffd7c",
            "d474628b2d1148ba9e3b9729fe5432d2",
            "d6b41cdca2534172bb84117c838fb1be",
            "7c82467bb27f4afabe945bde91806bd9",
            "1a6782e26bd547f7ad6a1461c780eeb0",
            "9f2eeec9cbc3402b80729979e4f9fffe",
            "6a3215e3785e47d0829746b270258954",
            "440a6c8c273642c2a598b528149c4f9b",
            "cc97415d2d444b518e4d11cc810dbf00",
            "d963b1a73ea848d8b3fcddfe474d5a42",
            "80320f8c41494ee7b4c80e95ac2ac338",
            "47323830797844df9f18ec6832158cce",
            "31328ae336954e168443db90fa745378",
            "c24478721179441eb6e9a9e558e2247e"
          ]
        },
        "id": "pvat26W4gQwl",
        "outputId": "b7687b97-2e28-496f-b376-be910b15f2b3"
      },
      "outputs": [
        {
          "data": {
            "application/vnd.jupyter.widget-view+json": {
              "model_id": "1a9308cd53864bec96aed9a4b2899124",
              "version_major": 2,
              "version_minor": 0
            },
            "text/plain": [
              "interactive(children=(DatePicker(value=Timestamp('2023-01-01 00:00:00'), description='Start Date', step=1, sty…"
            ]
          },
          "execution_count": 11,
          "metadata": {},
          "output_type": "execute_result"
        }
      ],
      "source": [
        "\n",
        "# Link widgets to the update function\n",
        "widgets.interactive(update_plot,\n",
        "                    start_date=start_date_widget,\n",
        "                    end_date=end_date_widget,\n",
        "                    plot_type=plot_type_widget,\n",
        "                    theme=theme_widget,\n",
        "                    filename=filename_widget)"
      ]
    },
    {
      "cell_type": "code",
      "execution_count": 12,
      "id": "Pq6SMCE5gERL",
      "metadata": {
        "colab": {
          "base_uri": "https://localhost:8080/",
          "height": 846,
          "referenced_widgets": [
            "cfdd1c068cf64114bdad7b089f8cd65b",
            "7c82467bb27f4afabe945bde91806bd9",
            "1a6782e26bd547f7ad6a1461c780eeb0",
            "7264ee1d81ca4a87890649b4e7c6ae66",
            "9f2eeec9cbc3402b80729979e4f9fffe",
            "6a3215e3785e47d0829746b270258954",
            "4d85f944ed844504a8eb105d1b9758f5",
            "440a6c8c273642c2a598b528149c4f9b",
            "cc97415d2d444b518e4d11cc810dbf00",
            "8bdb3df597f84ea19910100fa20bf389",
            "d963b1a73ea848d8b3fcddfe474d5a42",
            "80320f8c41494ee7b4c80e95ac2ac338",
            "7168a9a056ad4d0c87f0f2bf4a7ffd7c",
            "47323830797844df9f18ec6832158cce",
            "31328ae336954e168443db90fa745378",
            "15e9e92b9b7a4071a1103586bcabe16b",
            "c6083f078ccf4953a8a032bf831387fe"
          ]
        },
        "id": "Pq6SMCE5gERL",
        "outputId": "619b0923-8c64-404e-96da-5d1e24207397"
      },
      "outputs": [
        {
          "data": {
            "application/vnd.jupyter.widget-view+json": {
              "model_id": "1aa5895881d14842b924cac1c3f35b45",
              "version_major": 2,
              "version_minor": 0
            },
            "text/plain": [
              "DatePicker(value=Timestamp('2023-01-01 00:00:00'), description='Start Date', step=1, style=DescriptionStyle(de…"
            ]
          },
          "metadata": {},
          "output_type": "display_data"
        },
        {
          "data": {
            "application/vnd.jupyter.widget-view+json": {
              "model_id": "5c6ccec59f334901bab9a38c43457046",
              "version_major": 2,
              "version_minor": 0
            },
            "text/plain": [
              "DatePicker(value=Timestamp('2023-12-31 00:00:00'), description='End Date', step=1, style=DescriptionStyle(desc…"
            ]
          },
          "metadata": {},
          "output_type": "display_data"
        },
        {
          "data": {
            "application/vnd.jupyter.widget-view+json": {
              "model_id": "9f0ab7df4e3f40a190849a0cfc50a7a8",
              "version_major": 2,
              "version_minor": 0
            },
            "text/plain": [
              "Dropdown(description='Plot Type:', options=('Weekly', 'Monthly'), style=DescriptionStyle(description_width='in…"
            ]
          },
          "metadata": {},
          "output_type": "display_data"
        },
        {
          "data": {
            "application/vnd.jupyter.widget-view+json": {
              "model_id": "cef7cdffae2f4b039a585cb1fd04f415",
              "version_major": 2,
              "version_minor": 0
            },
            "text/plain": [
              "Dropdown(description='Theme:', options=('Light', 'Dark'), style=DescriptionStyle(description_width='initial'),…"
            ]
          },
          "metadata": {},
          "output_type": "display_data"
        },
        {
          "data": {
            "application/vnd.jupyter.widget-view+json": {
              "model_id": "0ed6c5e11dbe4b03aae8f1a1755626ed",
              "version_major": 2,
              "version_minor": 0
            },
            "text/plain": [
              "Text(value='weather_data.json', description='Filename:', style=TextStyle(description_width='initial'))"
            ]
          },
          "metadata": {},
          "output_type": "display_data"
        },
        {
          "data": {
            "application/vnd.jupyter.widget-view+json": {
              "model_id": "b5cc2b127de847cc86a19d63e6b07849",
              "version_major": 2,
              "version_minor": 0
            },
            "text/plain": [
              "Output(outputs=({'name': 'stdout', 'text': 'Hottest Day: 2023-06-04 (40.0°C)\\nColdest Day: 2023-01-21 (12.0°C)…"
            ]
          },
          "metadata": {},
          "output_type": "display_data"
        }
      ],
      "source": [
        "\n",
        "# Display the widgets\n",
        "display(start_date_widget, end_date_widget, plot_type_widget, theme_widget, filename_widget, output)"
      ]
    }
  ],
  "metadata": {
    "colab": {
      "provenance": []
    },
    "kernelspec": {
      "display_name": "Python 3",
      "language": "python",
      "name": "python3"
    },
    "language_info": {
      "codemirror_mode": {
        "name": "ipython",
        "version": 3
      },
      "file_extension": ".py",
      "mimetype": "text/x-python",
      "name": "python",
      "nbconvert_exporter": "python",
      "pygments_lexer": "ipython3",
      "version": "3.12.4"
    },
    "widgets": {
      "application/vnd.jupyter.widget-state+json": {
        "15e9e92b9b7a4071a1103586bcabe16b": {
          "model_module": "@jupyter-widgets/output",
          "model_module_version": "1.0.0",
          "model_name": "OutputModel",
          "state": {
            "_dom_classes": [],
            "_model_module": "@jupyter-widgets/output",
            "_model_module_version": "1.0.0",
            "_model_name": "OutputModel",
            "_view_count": null,
            "_view_module": "@jupyter-widgets/output",
            "_view_module_version": "1.0.0",
            "_view_name": "OutputView",
            "layout": "IPY_MODEL_c6083f078ccf4953a8a032bf831387fe",
            "msg_id": "",
            "outputs": [
              {
                "name": "stdout",
                "output_type": "stream",
                "text": [
                  "Hottest Day: 2023-06-25 (39.9°C)\n",
                  "Coldest Day: 2023-01-16 (12.0°C)\n",
                  "Average High Temp: 29.6°C\n",
                  "Average Low Temp: 22.3°C\n",
                  "Average Temp: 26.0°C\n"
                ]
              },
              {
                "data": {
                  "image/png": "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\n",
                  "text/plain": "<Figure size 1200x600 with 1 Axes>"
                },
                "metadata": {},
                "output_type": "display_data"
              }
            ]
          }
        },
        "1a6782e26bd547f7ad6a1461c780eeb0": {
          "model_module": "@jupyter-widgets/controls",
          "model_module_version": "1.5.0",
          "model_name": "DescriptionStyleModel",
          "state": {
            "_model_module": "@jupyter-widgets/controls",
            "_model_module_version": "1.5.0",
            "_model_name": "DescriptionStyleModel",
            "_view_count": null,
            "_view_module": "@jupyter-widgets/base",
            "_view_module_version": "1.2.0",
            "_view_name": "StyleView",
            "description_width": "initial"
          }
        },
        "31328ae336954e168443db90fa745378": {
          "model_module": "@jupyter-widgets/controls",
          "model_module_version": "1.5.0",
          "model_name": "DescriptionStyleModel",
          "state": {
            "_model_module": "@jupyter-widgets/controls",
            "_model_module_version": "1.5.0",
            "_model_name": "DescriptionStyleModel",
            "_view_count": null,
            "_view_module": "@jupyter-widgets/base",
            "_view_module_version": "1.2.0",
            "_view_name": "StyleView",
            "description_width": "initial"
          }
        },
        "440a6c8c273642c2a598b528149c4f9b": {
          "model_module": "@jupyter-widgets/base",
          "model_module_version": "1.2.0",
          "model_name": "LayoutModel",
          "state": {
            "_model_module": "@jupyter-widgets/base",
            "_model_module_version": "1.2.0",
            "_model_name": "LayoutModel",
            "_view_count": null,
            "_view_module": "@jupyter-widgets/base",
            "_view_module_version": "1.2.0",
            "_view_name": "LayoutView",
            "align_content": null,
            "align_items": null,
            "align_self": null,
            "border": null,
            "bottom": null,
            "display": null,
            "flex": null,
            "flex_flow": null,
            "grid_area": null,
            "grid_auto_columns": null,
            "grid_auto_flow": null,
            "grid_auto_rows": null,
            "grid_column": null,
            "grid_gap": null,
            "grid_row": null,
            "grid_template_areas": null,
            "grid_template_columns": null,
            "grid_template_rows": null,
            "height": null,
            "justify_content": null,
            "justify_items": null,
            "left": null,
            "margin": null,
            "max_height": null,
            "max_width": null,
            "min_height": null,
            "min_width": null,
            "object_fit": null,
            "object_position": null,
            "order": null,
            "overflow": null,
            "overflow_x": null,
            "overflow_y": null,
            "padding": null,
            "right": null,
            "top": null,
            "visibility": null,
            "width": null
          }
        },
        "47323830797844df9f18ec6832158cce": {
          "model_module": "@jupyter-widgets/base",
          "model_module_version": "1.2.0",
          "model_name": "LayoutModel",
          "state": {
            "_model_module": "@jupyter-widgets/base",
            "_model_module_version": "1.2.0",
            "_model_name": "LayoutModel",
            "_view_count": null,
            "_view_module": "@jupyter-widgets/base",
            "_view_module_version": "1.2.0",
            "_view_name": "LayoutView",
            "align_content": null,
            "align_items": null,
            "align_self": null,
            "border": null,
            "bottom": null,
            "display": null,
            "flex": null,
            "flex_flow": null,
            "grid_area": null,
            "grid_auto_columns": null,
            "grid_auto_flow": null,
            "grid_auto_rows": null,
            "grid_column": null,
            "grid_gap": null,
            "grid_row": null,
            "grid_template_areas": null,
            "grid_template_columns": null,
            "grid_template_rows": null,
            "height": null,
            "justify_content": null,
            "justify_items": null,
            "left": null,
            "margin": null,
            "max_height": null,
            "max_width": null,
            "min_height": null,
            "min_width": null,
            "object_fit": null,
            "object_position": null,
            "order": null,
            "overflow": null,
            "overflow_x": null,
            "overflow_y": null,
            "padding": null,
            "right": null,
            "top": null,
            "visibility": null,
            "width": null
          }
        },
        "4d85f944ed844504a8eb105d1b9758f5": {
          "model_module": "@jupyter-widgets/controls",
          "model_module_version": "1.5.0",
          "model_name": "DropdownModel",
          "state": {
            "_dom_classes": [],
            "_model_module": "@jupyter-widgets/controls",
            "_model_module_version": "1.5.0",
            "_model_name": "DropdownModel",
            "_options_labels": [
              "Weekly",
              "Monthly"
            ],
            "_view_count": null,
            "_view_module": "@jupyter-widgets/controls",
            "_view_module_version": "1.5.0",
            "_view_name": "DropdownView",
            "description": "Plot Type:",
            "description_tooltip": null,
            "disabled": false,
            "index": 1,
            "layout": "IPY_MODEL_440a6c8c273642c2a598b528149c4f9b",
            "style": "IPY_MODEL_cc97415d2d444b518e4d11cc810dbf00"
          }
        },
        "6a3215e3785e47d0829746b270258954": {
          "model_module": "@jupyter-widgets/controls",
          "model_module_version": "1.5.0",
          "model_name": "DescriptionStyleModel",
          "state": {
            "_model_module": "@jupyter-widgets/controls",
            "_model_module_version": "1.5.0",
            "_model_name": "DescriptionStyleModel",
            "_view_count": null,
            "_view_module": "@jupyter-widgets/base",
            "_view_module_version": "1.2.0",
            "_view_name": "StyleView",
            "description_width": "initial"
          }
        },
        "7168a9a056ad4d0c87f0f2bf4a7ffd7c": {
          "model_module": "@jupyter-widgets/controls",
          "model_module_version": "1.5.0",
          "model_name": "TextModel",
          "state": {
            "_dom_classes": [],
            "_model_module": "@jupyter-widgets/controls",
            "_model_module_version": "1.5.0",
            "_model_name": "TextModel",
            "_view_count": null,
            "_view_module": "@jupyter-widgets/controls",
            "_view_module_version": "1.5.0",
            "_view_name": "TextView",
            "continuous_update": true,
            "description": "Filename:",
            "description_tooltip": null,
            "disabled": false,
            "layout": "IPY_MODEL_47323830797844df9f18ec6832158cce",
            "placeholder": "​",
            "style": "IPY_MODEL_31328ae336954e168443db90fa745378",
            "value": "weather_data.json"
          }
        },
        "7264ee1d81ca4a87890649b4e7c6ae66": {
          "model_module": "@jupyter-widgets/controls",
          "model_module_version": "1.5.0",
          "model_name": "DatePickerModel",
          "state": {
            "_dom_classes": [],
            "_model_module": "@jupyter-widgets/controls",
            "_model_module_version": "1.5.0",
            "_model_name": "DatePickerModel",
            "_view_count": null,
            "_view_module": "@jupyter-widgets/controls",
            "_view_module_version": "1.5.0",
            "_view_name": "DatePickerView",
            "description": "End Date",
            "description_tooltip": null,
            "disabled": false,
            "layout": "IPY_MODEL_9f2eeec9cbc3402b80729979e4f9fffe",
            "style": "IPY_MODEL_6a3215e3785e47d0829746b270258954",
            "value": {
              "date": 28,
              "month": 2,
              "year": 2025
            }
          }
        },
        "7c82467bb27f4afabe945bde91806bd9": {
          "model_module": "@jupyter-widgets/base",
          "model_module_version": "1.2.0",
          "model_name": "LayoutModel",
          "state": {
            "_model_module": "@jupyter-widgets/base",
            "_model_module_version": "1.2.0",
            "_model_name": "LayoutModel",
            "_view_count": null,
            "_view_module": "@jupyter-widgets/base",
            "_view_module_version": "1.2.0",
            "_view_name": "LayoutView",
            "align_content": null,
            "align_items": null,
            "align_self": null,
            "border": null,
            "bottom": null,
            "display": null,
            "flex": null,
            "flex_flow": null,
            "grid_area": null,
            "grid_auto_columns": null,
            "grid_auto_flow": null,
            "grid_auto_rows": null,
            "grid_column": null,
            "grid_gap": null,
            "grid_row": null,
            "grid_template_areas": null,
            "grid_template_columns": null,
            "grid_template_rows": null,
            "height": null,
            "justify_content": null,
            "justify_items": null,
            "left": null,
            "margin": null,
            "max_height": null,
            "max_width": null,
            "min_height": null,
            "min_width": null,
            "object_fit": null,
            "object_position": null,
            "order": null,
            "overflow": null,
            "overflow_x": null,
            "overflow_y": null,
            "padding": null,
            "right": null,
            "top": null,
            "visibility": null,
            "width": null
          }
        },
        "80320f8c41494ee7b4c80e95ac2ac338": {
          "model_module": "@jupyter-widgets/controls",
          "model_module_version": "1.5.0",
          "model_name": "DescriptionStyleModel",
          "state": {
            "_model_module": "@jupyter-widgets/controls",
            "_model_module_version": "1.5.0",
            "_model_name": "DescriptionStyleModel",
            "_view_count": null,
            "_view_module": "@jupyter-widgets/base",
            "_view_module_version": "1.2.0",
            "_view_name": "StyleView",
            "description_width": "initial"
          }
        },
        "8bdb3df597f84ea19910100fa20bf389": {
          "model_module": "@jupyter-widgets/controls",
          "model_module_version": "1.5.0",
          "model_name": "DropdownModel",
          "state": {
            "_dom_classes": [],
            "_model_module": "@jupyter-widgets/controls",
            "_model_module_version": "1.5.0",
            "_model_name": "DropdownModel",
            "_options_labels": [
              "Light",
              "Dark"
            ],
            "_view_count": null,
            "_view_module": "@jupyter-widgets/controls",
            "_view_module_version": "1.5.0",
            "_view_name": "DropdownView",
            "description": "Theme:",
            "description_tooltip": null,
            "disabled": false,
            "index": 1,
            "layout": "IPY_MODEL_d963b1a73ea848d8b3fcddfe474d5a42",
            "style": "IPY_MODEL_80320f8c41494ee7b4c80e95ac2ac338"
          }
        },
        "9f2eeec9cbc3402b80729979e4f9fffe": {
          "model_module": "@jupyter-widgets/base",
          "model_module_version": "1.2.0",
          "model_name": "LayoutModel",
          "state": {
            "_model_module": "@jupyter-widgets/base",
            "_model_module_version": "1.2.0",
            "_model_name": "LayoutModel",
            "_view_count": null,
            "_view_module": "@jupyter-widgets/base",
            "_view_module_version": "1.2.0",
            "_view_name": "LayoutView",
            "align_content": null,
            "align_items": null,
            "align_self": null,
            "border": null,
            "bottom": null,
            "display": null,
            "flex": null,
            "flex_flow": null,
            "grid_area": null,
            "grid_auto_columns": null,
            "grid_auto_flow": null,
            "grid_auto_rows": null,
            "grid_column": null,
            "grid_gap": null,
            "grid_row": null,
            "grid_template_areas": null,
            "grid_template_columns": null,
            "grid_template_rows": null,
            "height": null,
            "justify_content": null,
            "justify_items": null,
            "left": null,
            "margin": null,
            "max_height": null,
            "max_width": null,
            "min_height": null,
            "min_width": null,
            "object_fit": null,
            "object_position": null,
            "order": null,
            "overflow": null,
            "overflow_x": null,
            "overflow_y": null,
            "padding": null,
            "right": null,
            "top": null,
            "visibility": null,
            "width": null
          }
        },
        "c24478721179441eb6e9a9e558e2247e": {
          "model_module": "@jupyter-widgets/base",
          "model_module_version": "1.2.0",
          "model_name": "LayoutModel",
          "state": {
            "_model_module": "@jupyter-widgets/base",
            "_model_module_version": "1.2.0",
            "_model_name": "LayoutModel",
            "_view_count": null,
            "_view_module": "@jupyter-widgets/base",
            "_view_module_version": "1.2.0",
            "_view_name": "LayoutView",
            "align_content": null,
            "align_items": null,
            "align_self": null,
            "border": null,
            "bottom": null,
            "display": null,
            "flex": null,
            "flex_flow": null,
            "grid_area": null,
            "grid_auto_columns": null,
            "grid_auto_flow": null,
            "grid_auto_rows": null,
            "grid_column": null,
            "grid_gap": null,
            "grid_row": null,
            "grid_template_areas": null,
            "grid_template_columns": null,
            "grid_template_rows": null,
            "height": null,
            "justify_content": null,
            "justify_items": null,
            "left": null,
            "margin": null,
            "max_height": null,
            "max_width": null,
            "min_height": null,
            "min_width": null,
            "object_fit": null,
            "object_position": null,
            "order": null,
            "overflow": null,
            "overflow_x": null,
            "overflow_y": null,
            "padding": null,
            "right": null,
            "top": null,
            "visibility": null,
            "width": null
          }
        },
        "c6083f078ccf4953a8a032bf831387fe": {
          "model_module": "@jupyter-widgets/base",
          "model_module_version": "1.2.0",
          "model_name": "LayoutModel",
          "state": {
            "_model_module": "@jupyter-widgets/base",
            "_model_module_version": "1.2.0",
            "_model_name": "LayoutModel",
            "_view_count": null,
            "_view_module": "@jupyter-widgets/base",
            "_view_module_version": "1.2.0",
            "_view_name": "LayoutView",
            "align_content": null,
            "align_items": null,
            "align_self": null,
            "border": null,
            "bottom": null,
            "display": null,
            "flex": null,
            "flex_flow": null,
            "grid_area": null,
            "grid_auto_columns": null,
            "grid_auto_flow": null,
            "grid_auto_rows": null,
            "grid_column": null,
            "grid_gap": null,
            "grid_row": null,
            "grid_template_areas": null,
            "grid_template_columns": null,
            "grid_template_rows": null,
            "height": null,
            "justify_content": null,
            "justify_items": null,
            "left": null,
            "margin": null,
            "max_height": null,
            "max_width": null,
            "min_height": null,
            "min_width": null,
            "object_fit": null,
            "object_position": null,
            "order": null,
            "overflow": null,
            "overflow_x": null,
            "overflow_y": null,
            "padding": null,
            "right": null,
            "top": null,
            "visibility": null,
            "width": null
          }
        },
        "cc97415d2d444b518e4d11cc810dbf00": {
          "model_module": "@jupyter-widgets/controls",
          "model_module_version": "1.5.0",
          "model_name": "DescriptionStyleModel",
          "state": {
            "_model_module": "@jupyter-widgets/controls",
            "_model_module_version": "1.5.0",
            "_model_name": "DescriptionStyleModel",
            "_view_count": null,
            "_view_module": "@jupyter-widgets/base",
            "_view_module_version": "1.2.0",
            "_view_name": "StyleView",
            "description_width": "initial"
          }
        },
        "cfdd1c068cf64114bdad7b089f8cd65b": {
          "model_module": "@jupyter-widgets/controls",
          "model_module_version": "1.5.0",
          "model_name": "DatePickerModel",
          "state": {
            "_dom_classes": [],
            "_model_module": "@jupyter-widgets/controls",
            "_model_module_version": "1.5.0",
            "_model_name": "DatePickerModel",
            "_view_count": null,
            "_view_module": "@jupyter-widgets/controls",
            "_view_module_version": "1.5.0",
            "_view_name": "DatePickerView",
            "description": "Start Date",
            "description_tooltip": null,
            "disabled": false,
            "layout": "IPY_MODEL_7c82467bb27f4afabe945bde91806bd9",
            "style": "IPY_MODEL_1a6782e26bd547f7ad6a1461c780eeb0",
            "value": {
              "date": 1,
              "month": 0,
              "year": 2023
            }
          }
        },
        "d474628b2d1148ba9e3b9729fe5432d2": {
          "model_module": "@jupyter-widgets/output",
          "model_module_version": "1.0.0",
          "model_name": "OutputModel",
          "state": {
            "_dom_classes": [],
            "_model_module": "@jupyter-widgets/output",
            "_model_module_version": "1.0.0",
            "_model_name": "OutputModel",
            "_view_count": null,
            "_view_module": "@jupyter-widgets/output",
            "_view_module_version": "1.0.0",
            "_view_name": "OutputView",
            "layout": "IPY_MODEL_c24478721179441eb6e9a9e558e2247e",
            "msg_id": "",
            "outputs": []
          }
        },
        "d6b41cdca2534172bb84117c838fb1be": {
          "model_module": "@jupyter-widgets/base",
          "model_module_version": "1.2.0",
          "model_name": "LayoutModel",
          "state": {
            "_model_module": "@jupyter-widgets/base",
            "_model_module_version": "1.2.0",
            "_model_name": "LayoutModel",
            "_view_count": null,
            "_view_module": "@jupyter-widgets/base",
            "_view_module_version": "1.2.0",
            "_view_name": "LayoutView",
            "align_content": null,
            "align_items": null,
            "align_self": null,
            "border": null,
            "bottom": null,
            "display": null,
            "flex": null,
            "flex_flow": null,
            "grid_area": null,
            "grid_auto_columns": null,
            "grid_auto_flow": null,
            "grid_auto_rows": null,
            "grid_column": null,
            "grid_gap": null,
            "grid_row": null,
            "grid_template_areas": null,
            "grid_template_columns": null,
            "grid_template_rows": null,
            "height": null,
            "justify_content": null,
            "justify_items": null,
            "left": null,
            "margin": null,
            "max_height": null,
            "max_width": null,
            "min_height": null,
            "min_width": null,
            "object_fit": null,
            "object_position": null,
            "order": null,
            "overflow": null,
            "overflow_x": null,
            "overflow_y": null,
            "padding": null,
            "right": null,
            "top": null,
            "visibility": null,
            "width": null
          }
        },
        "d963b1a73ea848d8b3fcddfe474d5a42": {
          "model_module": "@jupyter-widgets/base",
          "model_module_version": "1.2.0",
          "model_name": "LayoutModel",
          "state": {
            "_model_module": "@jupyter-widgets/base",
            "_model_module_version": "1.2.0",
            "_model_name": "LayoutModel",
            "_view_count": null,
            "_view_module": "@jupyter-widgets/base",
            "_view_module_version": "1.2.0",
            "_view_name": "LayoutView",
            "align_content": null,
            "align_items": null,
            "align_self": null,
            "border": null,
            "bottom": null,
            "display": null,
            "flex": null,
            "flex_flow": null,
            "grid_area": null,
            "grid_auto_columns": null,
            "grid_auto_flow": null,
            "grid_auto_rows": null,
            "grid_column": null,
            "grid_gap": null,
            "grid_row": null,
            "grid_template_areas": null,
            "grid_template_columns": null,
            "grid_template_rows": null,
            "height": null,
            "justify_content": null,
            "justify_items": null,
            "left": null,
            "margin": null,
            "max_height": null,
            "max_width": null,
            "min_height": null,
            "min_width": null,
            "object_fit": null,
            "object_position": null,
            "order": null,
            "overflow": null,
            "overflow_x": null,
            "overflow_y": null,
            "padding": null,
            "right": null,
            "top": null,
            "visibility": null,
            "width": null
          }
        },
        "f80d213c1bd44bdd869ed68a01dc6167": {
          "model_module": "@jupyter-widgets/controls",
          "model_module_version": "1.5.0",
          "model_name": "VBoxModel",
          "state": {
            "_dom_classes": [
              "widget-interact"
            ],
            "_model_module": "@jupyter-widgets/controls",
            "_model_module_version": "1.5.0",
            "_model_name": "VBoxModel",
            "_view_count": null,
            "_view_module": "@jupyter-widgets/controls",
            "_view_module_version": "1.5.0",
            "_view_name": "VBoxView",
            "box_style": "",
            "children": [
              "IPY_MODEL_cfdd1c068cf64114bdad7b089f8cd65b",
              "IPY_MODEL_7264ee1d81ca4a87890649b4e7c6ae66",
              "IPY_MODEL_4d85f944ed844504a8eb105d1b9758f5",
              "IPY_MODEL_8bdb3df597f84ea19910100fa20bf389",
              "IPY_MODEL_7168a9a056ad4d0c87f0f2bf4a7ffd7c",
              "IPY_MODEL_d474628b2d1148ba9e3b9729fe5432d2"
            ],
            "layout": "IPY_MODEL_d6b41cdca2534172bb84117c838fb1be"
          }
        }
      }
    }
  },
  "nbformat": 4,
  "nbformat_minor": 5
}
