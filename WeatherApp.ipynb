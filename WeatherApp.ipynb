{

  "cells": [

    {

      "cell_type": "code",

      "execution_count": null,

      "id": "tGA4gm4FfOmk",

      "metadata": {

        "id": "tGA4gm4FfOmk"

      },

      "outputs": [],

      "source": [

        "# Importing necessary libraries\n",

        "\n",

        "# For working with JSON data\n",

        "import json\n",

        "\n",

        "# For generating random numbers\n",

        "import random\n",

        "\n",

        "# For plotting graphs\n",

        "import matplotlib.pyplot as plt\n",

        "\n",

        "# For creating nice-looking plots\n",

        "import seaborn as sns\n",

        "\n",

        "# For handling data in tables\n",

        "import pandas as pd\n",

        "\n",

        "# For creating interactive widgets in Jupyter Notebooks\n",

        "import ipywidgets as widgets\n",

        "\n",

        "# For displaying widgets and other elements in Jupyter Notebooks\n",

        "from IPython.display import display"

      ]

    },

    {

      "cell_type": "code",

      "execution_count": null,

      "id": "f9jQIs-ef1xC",

      "metadata": {

        "id": "f9jQIs-ef1xC"

      },

      "outputs": [],

      "source": [

        "from datetime import datetime\n",

        "\n",

        "\n",

        "# Function to define high temperatures \n",

        "def high_season_temp(date):\n",

        "\n",

        "    \"\"\"\n",

        "    Description:\n",

        "    The high_season_temp function generates a random high temperature for a given date based on the month.\n",

        "\n",

        "    Parameters:\n",

        "    date (datetime): A datetime object representing the date for which the high temperature is to be generated.\n",

        "\n",

        "    Returns:\n",

        "    float: The high temperature value rounded to one decimal place.\n",

        "    \"\"\"\n",

        "    # Extract the month from the date\n",

        "    month = date.month\n",

        "    if month == 1:  # January\n",

        "        return round(random.uniform(18, 22), 1)\n",

        "    elif month == 2:  # February\n",

        "        return round(random.uniform(20, 24), 1)\n",

        "    elif month == 3:  # March\n",

        "        return round(random.uniform(25, 30), 1)\n",

        "    elif month == 4:  # April\n",

        "        return round(random.uniform(30, 35), 1)\n",

        "    elif month == 5:  # May\n",

        "        return round(random.uniform(34, 38), 1)\n",

        "    elif month == 6:  # June\n",

        "        return round(random.uniform(36, 40), 1)\n",

        "    elif month == 7:  # July\n",

        "        return round(random.uniform(35, 39), 1)\n",

        "    elif month == 8:  # August\n",

        "        return round(random.uniform(34, 38), 1)\n",

        "    elif month == 9:  # September\n",

        "        return round(random.uniform(32, 36), 1)\n",

        "    elif month == 10:  # October\n",

        "        return round(random.uniform(30, 34), 1)\n",

        "    elif month == 11:  # November\n",

        "        return round(random.uniform(25, 29), 1)\n",

        "    else:  # December\n",

        "        return round(random.uniform(20, 24), 1)\n",

        "\n",

        "# Function to define low temperatures\n",

        "def low_season_temp(date):\n",

        "    \n",

        "    \"\"\"\n",

        "    Description:\n",

        "    The low_season_temp function generates a random low temperature for a given date based on the month.\n",

        "    Parameters:\n",

        "    date (datetime): A datetime object representing the date for which the low temperature is to be generated.\n",

        "\n",

        "    Returns:\n",

        "    float: The low temperature value rounded to one decimal place.\n",

        "    \"\"\"\n",

        "    # Extract the month from the date\n",

        "    month = date.month\n",

        "    if month == 1:  # January\n",

        "        return round(random.uniform(12, 16), 1)\n",

        "    elif month == 2:  # February\n",

        "        return round(random.uniform(14, 18), 1)\n",

        "    elif month == 3:  # March\n",

        "        return round(random.uniform(18, 22), 1)\n",

        "    elif month == 4:  # April\n",

        "        return round(random.uniform(22, 26), 1)\n",

        "    elif month == 5:  # May\n",

        "        return round(random.uniform(26, 30), 1)\n",

        "    elif month == 6:  # June\n",

        "        return round(random.uniform(28, 32), 1)\n",

        "    elif month == 7:  # July\n",

        "        return round(random.uniform(27, 31), 1)\n",

        "    elif month == 8:  # August\n",

        "        return round(random.uniform(26, 30), 1)\n",

        "    elif month == 9:  # September\n",

        "        return round(random.uniform(24, 28), 1)\n",

        "    elif month == 10:  # October\n",

        "        return round(random.uniform(22, 26), 1)\n",

        "    elif month == 11:  # November\n",

        "        return round(random.uniform(18, 22), 1)\n",

        "    else:  # December\n",

        "        return round(random.uniform(14, 18), 1)\n",

        "\n",

        "\n",

        "# Generate example outputs for specific dates\n",

        "dates = [\n",

        "    datetime(2023, 1, 15),\n",

        "    datetime(2023, 4, 10),\n",

        "]\n",

        "\n",

        "for date in dates:\n",

        "    print(f\"High season temp for {date.strftime('%B %d, %Y')}: {high_season_temp(date)}°C\")\n",

        "    print(f\"Low season temp for {date.strftime('%B %d, %Y')}: {low_season_temp(date)}°C\\n\")"

      ]

    },

    {

      "cell_type": "code",

      "execution_count": null,

      "id": "fypWpb34fSqM",

      "metadata": {

        "colab": {

          "base_uri": "https://localhost:8080/",

          "height": 176

        },

        "id": "fypWpb34fSqM",

        "outputId": "af35c5c8-ab9e-4c1b-8b72-753e13bdcaff"

      },

      "outputs": [],

      "source": [

        "\n",

        "# Function to generate weather data\n",

        "def generate_weather_data(start_date, end_date):\n",

        "    \"\"\"\n",

        "    Description:\n",

        "    Generates weather data for a given date range.\n",

        "\n",

        "    Parameters:\n",

        "    start_date (str): The start date in 'YYYY-MM-DD' format.\n",

        "    end_date (str): The end date in 'YYYY-MM-DD' format.\n",

        "\n",

        "    Returns:\n",

        "    list: A list of dictionaries with weather info for each date.\n",

        "    Each dictionary contains:\n",

        "        - 'date': The date in 'YYYY-MM-DD' format.\n",

        "        - 'high_temp': The high temperature for the date.\n",

        "        - 'low_temp': The low temperature for the date.\n",

        "    \"\"\"\n",

        "\n",

        "    # Convert start_date and end_date to pd.Timestamp\n",

        "    \n",

        "    date_range = pd.date_range(start_date, end_date)\n",

        "    # List to store weather data\n",

        "    weather_data = []\n",

        "\n",

        "    # Go through each date in the range\n",

        "    for date in date_range:\n",

        "        # Create a dictionary with weather info for the current date\n",

        "        weather_info = {\n",

        "            'date': date.strftime('%Y-%m-%d'),  # Format the date as 'YYYY-MM-DD'\n",

        "            'high_temp': high_season_temp(date),  # Get the high temperature for the date\n",

        "            'low_temp': low_season_temp(date),    # Get the low temperature for the date\n",

        "        }\n",

        "        # Add the weather info to the list\n",

        "        weather_data.append(weather_info)\n",

        "\n",

        "    # Return the list of weather data\n",

        "    return weather_data\n",

        "\n",

        "# Example usage\n",

        "start_date = '2023-10-01'\n",

        "end_date = '2023-10-08'\n",

        "weather_data = generate_weather_data(start_date, end_date)\n",

        "\n",

        "# Print the output\n",

        "for data in weather_data:\n",

        "    print(data)"

      ]

    },

    {

      "cell_type": "code",

      "execution_count": null,

      "id": "9541fY0PfXSD",

      "metadata": {

        "id": "9541fY0PfXSD"

      },

      "outputs": [],

      "source": [

        "# Function to save weather data to a JSON file\n",

        "def save_weather_data(data, filename):\n",

        "    # Open the file in write mode and save the data as JSON\n",

        "    with open(filename, 'w') as file:\n",

        "        json.dump(data, file)\n",

        "\n",

        "# Function to load weather data from a JSON file\n",

        "def load_weather_data(filename):\n",

        "    # Open the file in read mode and load the data from JSON\n",

        "    with open(filename, 'r') as file:\n",

        "        data = json.load(file)\n",

        "    return data\n",

        "\n"

      ]

    },

    {

      "cell_type": "code",

      "execution_count": null,

      "id": "TysajXySf_QK",

      "metadata": {

        "colab": {

          "base_uri": "https://localhost:8080/"

        },

        "id": "TysajXySf_QK",

        "outputId": "d484b7b4-11fc-4cef-c045-a591ed4cea82"

      },

      "outputs": [],

      "source": [

        "\n",

        "def clean_data(data):\n",

        "    \"\"\"\n",

        "    Description:\n",

        "    Clean the input weather data.\n",

        "\n",

        "    Parameters:\n",

        "    data (list): A list of dictionaries with weather data.\n",

        "        - A DataFrame is like a table with rows and columns.\n",

        "        - Each column can have different types of data (e.g., numbers, text).\n",

        "\n",

        "    Returns:\n",

        "    pd.DataFrame: A cleaned DataFrame with datetime index and numeric temperature values.\n",

        "    \"\"\"\n",

        "    # Convert the input data into a pandas DataFrame (like a table)\n",

        "    df = pd.DataFrame(data)\n",

        "\n",

        "    # Convert the 'date' column to datetime objects (so pandas knows it's dates)\n",

        "    df['date'] = pd.to_datetime(df['date'])\n",

        "\n",

        "    # Set the 'date' column as the index (row labels) of the DataFrame\n",

        "    df.set_index('date', inplace=True)\n",

        "\n",

        "    # Convert 'high_temp' and 'low_temp' columns to numeric values (numbers)\n",

        "    df['high_temp'] = pd.to_numeric(df['high_temp'])\n",

        "    df['low_temp'] = pd.to_numeric(df['low_temp'])\n",

        "\n",

        "    # Return the cleaned DataFrame\n",

        "    return df\n",

        "\n",

        "# Example usage\n",

        "cleaned_df = clean_data(weather_data)\n",

        "print(cleaned_df)\n"

      ]

    },

    {

      "cell_type": "code",

      "execution_count": null,

      "id": "_R4zSuUeffej",

      "metadata": {

        "id": "_R4zSuUeffej"

      },

      "outputs": [],

      "source": [

        "def average_data(df, freq):\n",

        "    \"\"\"\n",

        "    Description:\n",

        "    Calculate the average high and low temperatures over a specified frequency.\n",

        "\n",

        "    Parameters:\n",

        "    df (pd.DataFrame): DataFrame with temperature data and a datetime index.\n",

        "    freq (str): How often to average the data - 'W' for weekly, 'ME' for monthly.\n",

        "\n",

        "    Returns:\n",

        "    pd.DataFrame: DataFrame with averaged high and low temperatures.\n",

        "    \"\"\"\n",

        "    \n",

        "    # Get only the 'high_temp' and 'low_temp' columns\n",

        "    num_df = df[['high_temp', 'low_temp']]\n",

        "\n",

        "    # Check if the frequency is weekly\n",

        "    if freq == 'W':\n",

        "        # Group the data weekly and calculate the average for each week\n",

        "        num_df = num_df.resample('W').mean()\n",

        "    # Otherwise, assume the frequency is monthly\n",

        "    else:\n",

        "        # Resample the data monthly and calculate the average for each month\n",

        "        num_df = num_df.resample('ME').mean()\n",

        "   \n",

        "    # Return the averaged data\n",

        "    return num_df\n",

        "\n",

        "weekly_avg = average_data(cleaned_df, 'W')\n",

        "print(\"Weekly Average:\")\n",

        "print(round(weekly_avg))\n",

        "\n",

        "# Example output for monthly average\n",

        "monthly_avg = average_data(cleaned_df, 'ME')\n",

        "print(\"\\nMonthly Average:\")\n",

        "print(round(monthly_avg))"

      ]

    },

    {

      "cell_type": "code",

      "execution_count": null,

      "id": "VytlTgyMfaRw",

      "metadata": {

        "id": "VytlTgyMfaRw"

      },

      "outputs": [],

      "source": [

        "# Function to find the hottest day\n",

        "def hottest_day(data):\n",

        "    # Start with the first day as the hottest\n",

        "    hottest = data[0]\n",

        "    # Go through each day in the data\n",

        "    for day in data:\n",

        "        # If the current day is hotter, update the hottest day\n",

        "        if day['high_temp'] > hottest['high_temp']:\n",

        "            hottest = day\n",

        "    return hottest\n",

        "\n",

        "# Function to find the coldest day\n",

        "def coldest_day(data):\n",

        "    # Start with the first day as the coldest\n",

        "    coldest = data[0]\n",

        "    # Go through each day in the data\n",

        "    for day in data:\n",

        "        # If the current day is colder, update the coldest day\n",

        "        if day['low_temp'] < coldest['low_temp']:\n",

        "            coldest = day\n",

        "    return coldest\n",

        "\n",

        "# Function to calculate average temperature\n",

        "def avg_temp(data, temp_type):\n",

        "    # Start with a total temperature of 0\n",

        "    total_temp = 0\n",

        "    # Add up all the temperatures\n",

        "    for entry in data:\n",

        "        total_temp += entry[temp_type]\n",

        "    # Divide by the number of entries to get the average\n",

        "    return total_temp / len(data)\n",

        "\n",

        "\n",

        "# Example usage\n",

        "hottest = hottest_day(weather_data)\n",

        "coldest = coldest_day(weather_data)\n",

        "average_high = avg_temp(weather_data, 'high_temp')\n",

        "average_low = avg_temp(weather_data, 'low_temp')\n",

        "\n",

        "# Print the results\n",

        "print(\"Hottest day:\", hottest)\n",

        "print(\"Coldest day:\", coldest)\n",

        "print(\"Average high temperature:\", round(average_high,1))\n",

        "print(\"Average low temperature:\", round(average_low,1))"

      ]

    },

    {

      "cell_type": "code",

      "execution_count": null,

      "id": "epq-HO_-hURr",

      "metadata": {

        "id": "epq-HO_-hURr"

      },

      "outputs": [],

      "source": [

        "def plotting(average_data, title, theme='Light'):\n",

        "\n",

        "    \"\"\" \n",

        "    Description:\n",

        "    The plotting function generates a line plot of high and low temperatures over time, with customizable themes for light and dark backgrounds.\n",

        "\n",

        "    Parameters:\n",

        "    average_data (DataFrame): A pandas DataFrame containing the temperature data.\n",

        "    title (str): The title of the plot.\n",

        "    theme (str, optional): The theme for the plot. It can be either 'Light' or 'Dark'. Default is 'Light'.\n",

        "    \n",

        "    Returns:\n",

        "    None: The function does not return any value. It displays the plot using plt.show().\n",

        "    \"\"\"\n",

        "     # Set the plot style based on the selected theme\n",

        "    if theme == 'Dark':\n",

        "        plt.style.use('dark_background')  # Dark theme\n",

        "        background_color = '#2E2E2E'      # Dark grey background\n",

        "        text_color = 'white'              # White text for contrast\n",

        "        grid_color = '#4F4F4F'            # Light grey grid lines\n",

        "    else:\n",

        "        plt.style.use('default')          # Light theme\n",

        "        background_color = 'white'        # White background\n",

        "        text_color = 'black'              # Black text for contrast\n",

        "        grid_color = '#CCCCCC'            # Light grey grid lines\n",

        "\n",

        "    # Create a figure and axis object with specific size\n",

        "    fig, ax = plt.subplots(figsize=(12, 6))\n",

        "\n",

        "    # Set the background colors\n",

        "    ax.set_facecolor(background_color)\n",

        "    ax.figure.set_facecolor(background_color)\n",

        "\n",

        "    ax.xaxis.label.set_color(text_color)     # Color of x-axis label\n",

        "    ax.yaxis.label.set_color(text_color)     # Color of y-axis label\n",

        "    ax.title.set_color(text_color)           # Color of the plot title\n",

        "    ax.tick_params(axis='x', colors=text_color)  # Color of x-axis tick labels\n",

        "    ax.tick_params(axis='y', colors=text_color)  # Color of y-axis tick labels\n",

        "\n",

        "    # Configure grid lines\n",

        "    ax.grid(True, color=grid_color)           \n",

        "\n",

        "    # Plot high temperatures\n",

        "    sns.lineplot(x=average_data.index, y='high_temp', data=average_data.reset_index(),\n",

        "                 marker='o', color='red', ax=ax, label='High Temp')\n",

        "\n",

        "    # Plot low temperatures\n",

        "    sns.lineplot(x=average_data.index, y='low_temp', data=average_data.reset_index(),\n",

        "                 marker='o', color='blue', ax=ax, label='Low Temp')\n",

        "\n",

        "    # Set axis labels and title\n",

        "    ax.set_xlabel('Date')                     \n",

        "    ax.set_ylabel('Temperature (°C)')         \n",

        "    ax.set_title(title)                     \n",

        "\n",

        "    # Rotate x-axis labels for better readability\n",

        "    ax.tick_params(axis='x', rotation=45)    \n",

        "\n",

        "    # Add a legend to differentiate between high and low temperatures\n",

        "    ax.legend()                               \n",

        "\n",

        "    # Adjust layout to fit everything nicely\n",

        "    fig.tight_layout()                      \n",

        "\n",

        "    # Display the plot\n",

        "    plt.show()                               \n",

        "\n",

        "\n",

        "# Example output\n",

        "plotting(cleaned_df, 'Average Weekly Temperatures', theme='Dark')"

      ]

    },

    {

      "cell_type": "code",

      "execution_count": null,

      "id": "eZuszrKDgNjs",

      "metadata": {

        "id": "eZuszrKDgNjs"

      },

      "outputs": [],

      "source": [

        "\n",

        "\n",

        "# Define an area to display output\n",

        "output = widgets.Output()\n",

        "\n",

        "# Show the output area\n",

        "display(output)\n",

        "\n",

        "def update_plot(start_date, end_date, plot_type, theme, filename):\n",

        "\n",

        "    \"\"\"\n",

        "    Description:\n",

        "    Generates and plots weather data for a specified date range.\n",

        "\n",

        "    Parameters:\n",

        "    start_date (str): The start date for the weather data generation in 'YYYY-MM-DD' format.\n",

        "    end_date (str): The end date for the weather data generati
